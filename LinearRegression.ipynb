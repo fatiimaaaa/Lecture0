{
  "nbformat": 4,
  "nbformat_minor": 0,
  "metadata": {
    "colab": {
      "private_outputs": true,
      "provenance": []
    },
    "kernelspec": {
      "name": "python3",
      "display_name": "Python 3"
    },
    "language_info": {
      "name": "python"
    }
  },
  "cells": [
    {
      "cell_type": "code",
      "execution_count": null,
      "metadata": {
        "id": "R90CRaQOknmp"
      },
      "outputs": [],
      "source": [
        "pip install numpy pandas matplotlib scikit-learn\n"
      ]
    },
    {
      "cell_type": "code",
      "source": [
        "import numpy as np\n",
        "import pandas as pd\n",
        "import matplotlib.pyplot as plt\n",
        "from sklearn.linear_model import LinearRegression\n",
        "from sklearn.model_selection import train_test_split\n",
        "from sklearn.metrics import mean_squared_error, r2_score"
      ],
      "metadata": {
        "id": "B_uwPFHJ98WT"
      },
      "execution_count": null,
      "outputs": []
    },
    {
      "cell_type": "code",
      "source": [
        "import numpy as np\n",
        "import pandas as pd\n",
        "\n",
        "# Set the random seed for reproducibility\n",
        "np.random.seed(42)\n",
        "\n",
        "# Generate synthetic data with more realistic salary values\n",
        "X = 2.5 * np.random.randn(100) + 1.5   # Features (Years of Experience)\n",
        "y = 10000 * X + np.random.randn(100)    # Target variable (Salary)\n",
        "\n",
        "# Round both experience and salary values to the nearest integer\n",
        "X = np.round(X)\n",
        "y = np.round(y)\n",
        "\n",
        "# Convert to pandas DataFrame\n",
        "data = pd.DataFrame({'Experience': X, 'Salary': y})\n",
        "\n",
        "# Display the first few rows of the dataset\n",
        "print(data.head())\n",
        "\n"
      ],
      "metadata": {
        "id": "dQhjgMg0-Ot9"
      },
      "execution_count": null,
      "outputs": []
    },
    {
      "cell_type": "code",
      "source": [
        "# Define feature and target variable\n",
        "X = data[['Experience']]  # Features\n",
        "y = data['Salary']        # Target variable\n",
        "\n",
        "# Split into training and testing sets (80% training and 20% testing)\n",
        "X_train, X_test, y_train, y_test = train_test_split(X, y, test_size=0.2, random_state=42)\n"
      ],
      "metadata": {
        "id": "GkBQCd6uA0He"
      },
      "execution_count": null,
      "outputs": []
    },
    {
      "cell_type": "code",
      "source": [
        "# Create an instance of LinearRegression\n",
        "model = LinearRegression()\n",
        "\n",
        "# Fit the model to the training data\n",
        "model.fit(X_train, y_train)\n",
        "\n",
        "# Retrieve the intercept and coefficient\n",
        "intercept = model.intercept_\n",
        "coefficient = model.coef_[0]\n",
        "\n",
        "print(f\"Intercept (b0): {intercept:.2f}\")\n",
        "print(f\"Coefficient (b1): {coefficient:.2f}\")\n"
      ],
      "metadata": {
        "id": "XyfuudvGBGqT"
      },
      "execution_count": null,
      "outputs": []
    },
    {
      "cell_type": "code",
      "source": [
        "# Plotting the training data\n",
        "plt.figure(figsize=(10, 6))\n",
        "plt.scatter(X_train, y_train, color='blue', label='Training Data')\n",
        "\n",
        "# Plotting the regression line\n",
        "plt.plot(X_train, model.predict(X_train), color='red', linewidth=2, label='Regression Line')\n",
        "\n",
        "# Adding labels and title\n",
        "plt.xlabel('Years of Experience')\n",
        "plt.ylabel('Salary')\n",
        "plt.title('Linear Regression - Training Data')\n",
        "plt.legend()\n",
        "plt.show()\n"
      ],
      "metadata": {
        "id": "2xALSYyMBkPo"
      },
      "execution_count": null,
      "outputs": []
    },
    {
      "cell_type": "code",
      "source": [
        "# Make predictions on the testing set\n",
        "y_pred = model.predict(X_test)\n",
        "\n",
        "# Calculate evaluation metrics\n",
        "mse = mean_squared_error(y_test, y_pred)\n",
        "r2 = r2_score(y_test, y_pred)\n",
        "\n",
        "print(f\"Mean Squared Error (MSE): {mse:.2f}\")\n",
        "print(f\"R-squared (R2 ): {r2:.2f}\")\n"
      ],
      "metadata": {
        "id": "3iPnmAgUBuoF"
      },
      "execution_count": null,
      "outputs": []
    },
    {
      "cell_type": "code",
      "source": [
        "\n",
        "# New data for prediction\n",
        "new_experience = np.array([[5], [10], [15]])\n",
        "\n",
        "# Predict salaries for new experience levels\n",
        "predicted_salary = model.predict(new_experience)\n",
        "\n",
        "# Display the predictions\n",
        "for exp, sal in zip(new_experience, predicted_salary):\n",
        "    print(f\"Years of Experience: {exp[0]} --> Predicted Salary: {sal:.2f}\")\n"
      ],
      "metadata": {
        "id": "k8-7MOSECJjg"
      },
      "execution_count": null,
      "outputs": []
    }
  ]
}